{
 "cells": [
  {
   "metadata": {},
   "cell_type": "code",
   "source": [
    "from google.cloud import bigquery\n",
    "\n",
    "# Initialize a BigQuery client\n",
    "client = bigquery.Client()\n",
    "\n",
    "# Define your project, dataset, and table\n",
    "project_id = \"carbon-relic-439014-t0\"\n",
    "dataset_id = \"chicago_taxi\"\n",
    "table_id = \"data\"\n",
    "\n",
    "# Construct the fully qualified table name\n",
    "table_ref = f\"{project_id}.{dataset_id}.{table_id}\"\n",
    "\n",
    "# Load data into a Pandas DataFrame\n",
    "query = f\"SELECT * FROM `{table_ref}`\"\n",
    "df = client.query(query).to_dataframe()\n",
    "\n",
    "# Display first few rows\n",
    "print(df.head())\n"
   ],
   "id": "348dca18ced61464",
   "outputs": [],
   "execution_count": null
  },
  {
   "metadata": {},
   "cell_type": "code",
   "source": "df.describe()",
   "id": "fa421e1fdf1ab1ed",
   "outputs": [],
   "execution_count": null
  },
  {
   "metadata": {},
   "cell_type": "code",
   "source": "df.isna().sum()",
   "id": "e39c33cd4fe8986d",
   "outputs": [],
   "execution_count": null
  },
  {
   "metadata": {},
   "cell_type": "code",
   "source": "df.drop(columns=[\"pickup_census_tract\", \"dropoff_census_tract\", \"dropoff_community_area\", \"dropoff_latitude\", \"dropoff_longitude\", \"dropoff_location\"], inplace=True)",
   "id": "469ececf30fe523",
   "outputs": [],
   "execution_count": null
  },
  {
   "metadata": {},
   "cell_type": "code",
   "source": "df.shape",
   "id": "baaf586a62c6a057",
   "outputs": [],
   "execution_count": null
  },
  {
   "metadata": {},
   "cell_type": "code",
   "source": [
    "import seaborn as sns\n",
    "import matplotlib.pyplot as plt\n",
    "\n",
    "sns.scatterplot(data=df, x=\"trip_miles\",y=\"trip_seconds\")"
   ],
   "id": "b52a46f35ab5b769",
   "outputs": [],
   "execution_count": null
  },
  {
   "metadata": {},
   "cell_type": "code",
   "source": "df = df[df[\"trip_miles\"] < 400]",
   "id": "9b0a5d8601001d2f",
   "outputs": [],
   "execution_count": null
  },
  {
   "metadata": {},
   "cell_type": "code",
   "source": "df.shape",
   "id": "81e26658997580a8",
   "outputs": [],
   "execution_count": null
  },
  {
   "metadata": {},
   "cell_type": "code",
   "source": "sns.scatterplot(data=df, x=\"trip_miles\",y=\"trip_seconds\")",
   "id": "fd09dffd43abffba",
   "outputs": [],
   "execution_count": null
  },
  {
   "metadata": {},
   "cell_type": "code",
   "source": "df.head()",
   "id": "5cebed000fd74298",
   "outputs": [],
   "execution_count": null
  },
  {
   "metadata": {},
   "cell_type": "code",
   "source": [
    "df[\"daytime\"] = df[\"trip_start_timestamp\"].dt.hour\n",
    "df['day_type'] = df['trip_start_timestamp'].dt.weekday.apply(lambda x: 'weekend' if x >= 5 else 'weekday')\n",
    "df['month'] = df['trip_start_timestamp'].dt.month\n",
    "df['day_of_week'] = df['trip_start_timestamp'].dt.dayofweek\n",
    "df['day_of_month'] = df['trip_start_timestamp'].dt.day"
   ],
   "id": "be44906e2e5c0353",
   "outputs": [],
   "execution_count": null
  },
  {
   "metadata": {},
   "cell_type": "code",
   "source": "df.head()",
   "id": "d04f0482e52517",
   "outputs": [],
   "execution_count": null
  },
  {
   "metadata": {},
   "cell_type": "code",
   "source": [
    "df[\"avg_tips_per_taxi\"] = df.groupby(\"taxi_id\")[\"tips\"].transform(\"mean\")\n",
    "df_clean = df.drop(columns=[\"unique_key\", \"taxi_id\", \"trip_start_timestamp\", \"trip_end_timestamp\", \"timestamp\", \"fare\", \"tips\", \"trip_seconds\", \"pickup_location\"])\n",
    "df_clean.dropna(inplace=True)"
   ],
   "id": "4f836dde2ec8e02e",
   "outputs": [],
   "execution_count": null
  },
  {
   "metadata": {},
   "cell_type": "code",
   "source": "df_clean.head()",
   "id": "bd4b2b3807791559",
   "outputs": [],
   "execution_count": null
  },
  {
   "metadata": {},
   "cell_type": "code",
   "source": "df_clean.shape",
   "id": "5c022620150a546b",
   "outputs": [],
   "execution_count": null
  },
  {
   "metadata": {},
   "cell_type": "code",
   "source": [
    "import pandas as pd\n",
    "import numpy as np\n",
    "from sklearn.model_selection import train_test_split\n",
    "from sklearn.pipeline import Pipeline\n",
    "from sklearn.compose import ColumnTransformer\n",
    "from sklearn.preprocessing import OneHotEncoder, StandardScaler\n",
    "from xgboost import XGBRegressor\n",
    "\n",
    "# Define categorical and numerical columns\n",
    "categorical_cols = [\"payment_type\", \"company\", \"day_type\"]  # Replace with your actual categorical columns\n",
    "numerical_cols = [ \"trip_miles\", \"tolls\", \"extras\", \"daytime\", \"month\", \"day_of_week\", \"day_of_month\",\n",
    "                  \"avg_tips_per_taxi\", \"pickup_latitude\", \"pickup_longitude\", \"pickup_community_area\"]  # Replace with your actual numerical columns\n",
    "target_column = \"trip_total\"\n",
    "\n",
    "# Split data into features and target\n",
    "X = df_clean.drop(columns=[target_column])\n",
    "y = df_clean[target_column]\n",
    "\n",
    "# Split into training and test sets\n",
    "X_train, X_test, y_train, y_test = train_test_split(X, y, test_size=0.2, random_state=42)\n",
    "\n",
    "# Define preprocessing steps\n",
    "preprocessor = ColumnTransformer([\n",
    "    (\"num\", StandardScaler(), numerical_cols),  # Scale numerical columns\n",
    "    (\"cat\", OneHotEncoder(handle_unknown=\"ignore\"), categorical_cols)  # OneHotEncode categorical columns\n",
    "])\n",
    "\n",
    "# Define the pipeline\n",
    "pipeline = Pipeline([\n",
    "    (\"preprocessor\", preprocessor),\n",
    "    (\"model\", XGBRegressor(\n",
    "        n_estimators=1000,\n",
    "        learning_rate=0.1,\n",
    "        max_depth=6,\n",
    "        random_state=42,\n",
    "        objective=\"reg:squarederror\"\n",
    "    ))\n",
    "])\n",
    "\n",
    "import mlflow\n",
    "import mlflow.sklearn\n",
    "from sklearn.metrics import mean_absolute_error, mean_squared_error, r2_score\n",
    "import numpy as np\n",
    "\n",
    "# Train the pipeline (if not already trained)\n",
    "pipeline.fit(X_train, y_train)\n",
    "\n",
    "# Make predictions\n",
    "y_pred = pipeline.predict(X_test)\n",
    "\n",
    "# Calculate evaluation metrics\n",
    "mae = mean_absolute_error(y_test, y_pred)\n",
    "mse = mean_squared_error(y_test, y_pred)\n",
    "rmse = np.sqrt(mse)\n",
    "r2 = r2_score(y_test, y_pred)\n",
    "\n",
    "print(f\"mae: {mae}\")\n",
    "print(f\"mse: {mse}\")\n",
    "print(f\"rmse: {rmse}\")\n",
    "print(f\"r2: {r2}\")\n",
    "\n",
    "# Log model hyperparameters (from XGBRegressor inside the pipeline)\n",
    "xgb_params = pipeline.named_steps[\"model\"].get_params()\n"
   ],
   "id": "2ee1cdba1cd05e67",
   "outputs": [],
   "execution_count": null
  },
  {
   "metadata": {},
   "cell_type": "code",
   "source": [
    "import matplotlib.pyplot as plt\n",
    "import pandas as pd\n",
    "\n",
    "# Get feature importances from XGBoost model\n",
    "feature_importances = pipeline.named_steps[\"model\"].feature_importances_\n",
    "\n",
    "# Retrieve transformed feature names from ColumnTransformer\n",
    "encoder = pipeline.named_steps[\"preprocessor\"].named_transformers_[\"cat\"]\n",
    "ohe_feature_names = encoder.get_feature_names_out(categorical_cols)\n",
    "\n",
    "# Combine numerical and encoded categorical feature names\n",
    "all_feature_names = numerical_cols + list(ohe_feature_names)\n",
    "\n",
    "# Create a DataFrame for feature importance\n",
    "feature_importance_df = pd.DataFrame({\n",
    "    \"Feature\": all_feature_names,\n",
    "    \"Importance\": feature_importances\n",
    "})\n",
    "\n",
    "# Function to correctly map one-hot encoded features back to their original categorical column\n",
    "def map_original_feature(feature_name):\n",
    "    for cat_col in categorical_cols:\n",
    "        if feature_name.startswith(cat_col + \"_\"):  # One-hot encoded feature\n",
    "            return cat_col\n",
    "    return feature_name  # Numerical features remain unchanged\n",
    "\n",
    "# Apply the mapping function\n",
    "feature_importance_df[\"Original Feature\"] = feature_importance_df[\"Feature\"].apply(map_original_feature)\n",
    "\n",
    "# Aggregate importance scores by original feature names\n",
    "aggregated_importance = feature_importance_df.groupby(\"Original Feature\")[\"Importance\"].sum().reset_index()\n",
    "\n",
    "# Sort by importance\n",
    "aggregated_importance = aggregated_importance.sort_values(by=\"Importance\", ascending=False)\n",
    "\n",
    "# Plot feature importance\n",
    "plt.figure(figsize=(12, 6))\n",
    "plt.barh(aggregated_importance[\"Original Feature\"], aggregated_importance[\"Importance\"])\n",
    "plt.xlabel(\"Feature Importance\")\n",
    "plt.ylabel(\"Feature Name\")\n",
    "plt.title(\"Aggregated Feature Importance (Grouped)\")\n",
    "plt.gca().invert_yaxis()\n",
    "plt.show()\n"
   ],
   "id": "3eac2fa85c0c72c8",
   "outputs": [],
   "execution_count": null
  },
  {
   "metadata": {
    "ExecuteTime": {
     "end_time": "2025-02-27T11:01:11.467895Z",
     "start_time": "2025-02-27T11:01:11.463465Z"
    }
   },
   "cell_type": "code",
   "source": [
    "def remove_outliers(df: pd.DataFrame) -> pd.DataFrame:\n",
    "    exclude_cols = {\"extras\", \"avg_tips\", \"pickup_latitude\", \"tolls\"}  # Set of columns to exclude\n",
    "    numeric_cols = [col for col in df.select_dtypes(include=[\"number\"]).columns if col not in exclude_cols]\n",
    "    for col in numeric_cols:\n",
    "        Q1 = df[col].quantile(0.25)\n",
    "        Q3 = df[col].quantile(0.75)\n",
    "        IQR = Q3 - Q1\n",
    "        lower_bound = Q1 - 1.5 * IQR\n",
    "        upper_bound = Q3 + 1.5 * IQR\n",
    "\n",
    "        original_size = len(df)\n",
    "        df = df[(df[col] >= lower_bound) & (df[col] <= upper_bound)]\n",
    "        removed = original_size - len(df)\n",
    "    return df\n"
   ],
   "id": "c6ac305a5c2fcf7c",
   "outputs": [],
   "execution_count": 78
  },
  {
   "metadata": {
    "ExecuteTime": {
     "end_time": "2025-02-27T11:01:36.627305Z",
     "start_time": "2025-02-27T11:01:35.184478Z"
    }
   },
   "cell_type": "code",
   "source": [
    "df_new = remove_outliers(df)\n",
    "df_new = df_new[(df_new[\"trip_miles\"] > 0) & (df_new[\"trip_total\"] > 0)] "
   ],
   "id": "eeafc956577b6b9b",
   "outputs": [],
   "execution_count": 80
  },
  {
   "metadata": {
    "ExecuteTime": {
     "end_time": "2025-02-27T11:01:39.983526Z",
     "start_time": "2025-02-27T11:01:39.720093Z"
    }
   },
   "cell_type": "code",
   "source": [
    "df_new[\"avg_tips_per_taxi\"] = df_new.groupby(\"taxi_id\")[\"tips\"].transform(\"mean\")\n",
    "df_new = df_new.drop(columns=[\"unique_key\", \"taxi_id\", \"trip_start_timestamp\", \"trip_end_timestamp\", \"timestamp\", \"fare\", \"tips\", \"trip_seconds\", \"pickup_location\"])\n",
    "df_new.dropna(inplace=True)"
   ],
   "id": "94572d3c84d72204",
   "outputs": [],
   "execution_count": 81
  },
  {
   "metadata": {
    "ExecuteTime": {
     "end_time": "2025-02-27T11:01:41.917677Z",
     "start_time": "2025-02-27T11:01:41.914053Z"
    }
   },
   "cell_type": "code",
   "source": "df_new.shape",
   "id": "a3ef685070d60353",
   "outputs": [
    {
     "data": {
      "text/plain": [
       "(697293, 15)"
      ]
     },
     "execution_count": 82,
     "metadata": {},
     "output_type": "execute_result"
    }
   ],
   "execution_count": 82
  },
  {
   "metadata": {
    "ExecuteTime": {
     "end_time": "2025-02-27T11:01:55.044453Z",
     "start_time": "2025-02-27T11:01:43.658276Z"
    }
   },
   "cell_type": "code",
   "source": [
    "# Define categorical and numerical columns\n",
    "categorical_cols = [\"payment_type\", \"company\", \"day_type\"]  # Replace with your actual categorical columns\n",
    "numerical_cols = [ \"trip_miles\", \"tolls\", \"extras\", \"daytime\", \"month\", \"day_of_week\", \"day_of_month\",\n",
    "                  \"avg_tips_per_taxi\", \"pickup_latitude\", \"pickup_longitude\", \"pickup_community_area\"]    # Replace with your actual numerical columns\n",
    "target_column = \"trip_total\"\n",
    "\n",
    "# Split data into features and target\n",
    "X = df_new.drop(columns=[target_column])\n",
    "y = df_new[target_column]\n",
    "\n",
    "# Split into training and test sets\n",
    "X_train, X_test, y_train, y_test = train_test_split(X, y, test_size=0.2, random_state=42)\n",
    "\n",
    "# Define preprocessing steps\n",
    "preprocessor = ColumnTransformer([\n",
    "    (\"num\", StandardScaler(), numerical_cols),  # Scale numerical columns\n",
    "    (\"cat\", OneHotEncoder(handle_unknown=\"ignore\"), categorical_cols)  # OneHotEncode categorical columns\n",
    "])\n",
    "\n",
    "# Define the pipeline\n",
    "pipeline = Pipeline([\n",
    "    (\"preprocessor\", preprocessor),\n",
    "    (\"model\", XGBRegressor(\n",
    "        n_estimators=1000,\n",
    "        learning_rate=0.1,\n",
    "        max_depth=6,\n",
    "        random_state=42,\n",
    "        objective=\"reg:squarederror\"\n",
    "    ))\n",
    "])\n",
    "\n",
    "import mlflow\n",
    "import mlflow.sklearn\n",
    "from sklearn.metrics import mean_absolute_error, mean_squared_error, r2_score\n",
    "import numpy as np\n",
    "\n",
    "# Train the pipeline (if not already trained)\n",
    "pipeline.fit(X_train, y_train)\n",
    "\n",
    "# Make predictions\n",
    "y_pred = pipeline.predict(X_test)\n",
    "\n",
    "# Calculate evaluation metrics\n",
    "mae = mean_absolute_error(y_test, y_pred)\n",
    "mse = mean_squared_error(y_test, y_pred)\n",
    "rmse = np.sqrt(mse)\n",
    "r2 = r2_score(y_test, y_pred)\n",
    "\n",
    "# Log model hyperparameters (from XGBRegressor inside the pipeline)\n",
    "xgb_params = pipeline.named_steps[\"model\"].get_params()"
   ],
   "id": "af65d8ab6f452191",
   "outputs": [],
   "execution_count": 83
  },
  {
   "metadata": {
    "ExecuteTime": {
     "end_time": "2025-02-27T11:01:56.485595Z",
     "start_time": "2025-02-27T11:01:56.482015Z"
    }
   },
   "cell_type": "code",
   "source": [
    "print(f\"mae: {mae}\")\n",
    "print(f\"mse: {mse}\")\n",
    "print(f\"rmse: {rmse}\")\n",
    "print(f\"r2: {r2}\")"
   ],
   "id": "7efad567a162b09d",
   "outputs": [
    {
     "name": "stdout",
     "output_type": "stream",
     "text": [
      "mae: 2.1328532988146844\n",
      "mse: 14.920313080390471\n",
      "rmse: 3.8626821096733384\n",
      "r2: 0.9612675264309508\n"
     ]
    }
   ],
   "execution_count": 84
  },
  {
   "metadata": {
    "ExecuteTime": {
     "end_time": "2025-02-27T11:02:00.883971Z",
     "start_time": "2025-02-27T11:02:00.733051Z"
    }
   },
   "cell_type": "code",
   "source": [
    "# Get feature importances from XGBoost model\n",
    "feature_importances = pipeline.named_steps[\"model\"].feature_importances_\n",
    "\n",
    "# Retrieve transformed feature names from ColumnTransformer\n",
    "encoder = pipeline.named_steps[\"preprocessor\"].named_transformers_[\"cat\"]\n",
    "ohe_feature_names = encoder.get_feature_names_out(categorical_cols)\n",
    "\n",
    "# Combine numerical and encoded categorical feature names\n",
    "all_feature_names = numerical_cols + list(ohe_feature_names)\n",
    "\n",
    "# Create a DataFrame for feature importance\n",
    "feature_importance_df = pd.DataFrame({\n",
    "    \"Feature\": all_feature_names,\n",
    "    \"Importance\": feature_importances\n",
    "})\n",
    "\n",
    "# Function to correctly map one-hot encoded features back to their original categorical column\n",
    "def map_original_feature(feature_name):\n",
    "    for cat_col in categorical_cols:\n",
    "        if feature_name.startswith(cat_col + \"_\"):  # One-hot encoded feature\n",
    "            return cat_col\n",
    "    return feature_name  # Numerical features remain unchanged\n",
    "\n",
    "# Apply the mapping function\n",
    "feature_importance_df[\"Original Feature\"] = feature_importance_df[\"Feature\"].apply(map_original_feature)\n",
    "\n",
    "# Aggregate importance scores by original feature names\n",
    "aggregated_importance = feature_importance_df.groupby(\"Original Feature\")[\"Importance\"].sum().reset_index()\n",
    "\n",
    "# Sort by importance\n",
    "aggregated_importance = aggregated_importance.sort_values(by=\"Importance\", ascending=False)\n",
    "\n",
    "# Plot feature importance\n",
    "plt.figure(figsize=(12, 6))\n",
    "plt.barh(aggregated_importance[\"Original Feature\"], aggregated_importance[\"Importance\"])\n",
    "plt.xlabel(\"Feature Importance\")\n",
    "plt.ylabel(\"Feature Name\")\n",
    "plt.title(\"Aggregated Feature Importance (Grouped)\")\n",
    "plt.gca().invert_yaxis()\n",
    "plt.show()"
   ],
   "id": "71f9db2eb2dc85b8",
   "outputs": [
    {
     "data": {
      "text/plain": [
       "<Figure size 1200x600 with 1 Axes>"
      ],
      "image/png": "[encoded data removed]"
     },
     "metadata": {},
     "output_type": "display_data"
    }
   ],
   "execution_count": 85
  },
  {
   "metadata": {},
   "cell_type": "code",
   "source": [
    "# Create a scatter plot for predicted vs. actual values\n",
    "plt.figure(figsize=(8, 6))\n",
    "plt.scatter(y_test, y_pred, alpha=0.5, label=\"Predictions\", color=\"blue\")\n",
    "plt.plot([min(y_test), max(y_test)], [min(y_test), max(y_test)], linestyle='--', color='red', label=\"Perfect Fit\")\n",
    "\n",
    "# Labels and title\n",
    "plt.xlabel(\"Actual Trip Total ($)\")\n",
    "plt.ylabel(\"Predicted Trip Total ($)\")\n",
    "plt.title(\"Predicted vs. Actual Trip Total\")\n",
    "plt.legend()\n",
    "plt.grid(True)\n",
    "\n",
    "# Show plot\n",
    "plt.show()\n"
   ],
   "id": "76d5199508d3a01e",
   "outputs": [],
   "execution_count": null
  }
 ],
 "metadata": {
  "kernelspec": {
   "display_name": "Python 3",
   "language": "python",
   "name": "python3"
  },
  "language_info": {
   "codemirror_mode": {
    "name": "ipython",
    "version": 2
   },
   "file_extension": ".py",
   "mimetype": "text/x-python",
   "name": "python",
   "nbconvert_exporter": "python",
   "pygments_lexer": "ipython2",
   "version": "2.7.6"
  }
 },
 "nbformat": 4,
 "nbformat_minor": 5
}
