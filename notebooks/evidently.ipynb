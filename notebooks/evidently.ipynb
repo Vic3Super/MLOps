{
 "cells": [
  {
   "metadata": {
    "ExecuteTime": {
     "end_time": "2025-01-02T13:53:22.280026Z",
     "start_time": "2025-01-02T13:53:16.937435Z"
    }
   },
   "cell_type": "code",
   "source": [
    "import json\n",
    "import pandas as pd\n",
    "from google.cloud import bigquery\n",
    "\n",
    "\n",
    "def load_config(file_path):\n",
    "    \"\"\"Load configuration from a JSON file.\"\"\"\n",
    "    with open(file_path, \"r\") as file:\n",
    "        return json.load(file)\n",
    "\n",
    "\n",
    "def get_bigquery_data(client, project_id, dataset_name, table_name):\n",
    "    \"\"\"Fetch data from a BigQuery table and return it as a pandas DataFrame.\"\"\"\n",
    "    table_id = f\"{project_id}.{dataset_name}.{table_name}\"\n",
    "    query = f\"SELECT * FROM `{table_id}`\"\n",
    "    query_job = client.query(query)  # API request\n",
    "    return query_job.result().to_dataframe()\n",
    "\n",
    "\n",
    "# Load configuration\n",
    "config = load_config(\"configs/config.json\")\n",
    "PROJECT_ID = config[\"PROJECT_ID\"]\n",
    "DATASET_NAME = config[\"DATASET_NAME\"]\n",
    "\n",
    "# Initialize the BigQuery client\n",
    "client = bigquery.Client()\n",
    "\n",
    "# Fetch reference and current data\n",
    "result_cur = get_bigquery_data(client, PROJECT_ID, DATASET_NAME, \"prediction\")\n",
    "result_ref_df = get_bigquery_data(client, PROJECT_ID, DATASET_NAME, \"raw_data\")\n",
    "\n",
    "# Initialize an empty list to store individual DataFrames\n",
    "dataframes = []\n",
    "\n",
    "# Iterate over all rows in the `input_data` column\n",
    "for json_string in result_cur[\"input_data\"]:\n",
    "    # Parse JSON string into a dictionary\n",
    "    json_data = json.loads(json_string)\n",
    "    # Create a DataFrame for the current row's input_data\n",
    "    df = pd.DataFrame(data=json_data[\"data\"], columns=json_data[\"columns\"])\n",
    "    # Append to the list\n",
    "    dataframes.append(df)\n",
    "\n",
    "# Concatenate all DataFrames into one big DataFrame\n",
    "result_cur_df = pd.concat(dataframes, ignore_index=True)"
   ],
   "id": "abfdbbc15d85155f",
   "outputs": [],
   "execution_count": 187
  },
  {
   "metadata": {
    "ExecuteTime": {
     "end_time": "2025-01-02T13:53:23.874906Z",
     "start_time": "2025-01-02T13:53:23.865609Z"
    }
   },
   "cell_type": "code",
   "source": [
    "from LocalRun.src.extract_data import extract_data\n",
    "result_cur_df = extract_data(result_cur_df)\n",
    "result_ref_df = extract_data(result_ref_df)"
   ],
   "id": "b4abcd3f6cb98a03",
   "outputs": [],
   "execution_count": 188
  },
  {
   "metadata": {
    "ExecuteTime": {
     "end_time": "2025-01-02T13:53:25.936118Z",
     "start_time": "2025-01-02T13:53:25.899585Z"
    }
   },
   "cell_type": "code",
   "source": [
    "from evidently.report import Report\n",
    "from evidently.metric_preset import DataDriftPreset\n",
    "\n",
    "data_drift_report = Report(metrics=[\n",
    "    DataDriftPreset(),\n",
    "])\n",
    "\n",
    "data_drift_report.run(reference_data=result_ref_df, current_data=result_cur_df)\n",
    "report_dict = data_drift_report.as_dict()"
   ],
   "id": "6db38f52a2a2eede",
   "outputs": [],
   "execution_count": 189
  },
  {
   "metadata": {},
   "cell_type": "code",
   "source": "report_dict",
   "id": "475d48010958d84f",
   "outputs": [],
   "execution_count": null
  },
  {
   "metadata": {},
   "cell_type": "code",
   "source": [
    "# Access the drift share\n",
    "drift_share = report_dict['metrics'][0]['result']['drift_share']\n",
    "print(\"Drift Share:\", drift_share)\n",
    "\n",
    "# Check if dataset drift was detected\n",
    "dataset_drift = report_dict['metrics'][0]['result']['dataset_drift']\n",
    "print(\"Dataset Drift Detected:\", dataset_drift)"
   ],
   "id": "ec09a73b5abf1db2",
   "outputs": [],
   "execution_count": null
  },
  {
   "metadata": {},
   "cell_type": "code",
   "source": [
    "# Access drift information for a specific column, e.g., 'Trip Miles'\n",
    "trip_miles_drift = report_dict['metrics'][1]['result']['drift_by_columns']['Trip Miles']\n",
    "\n",
    "# Extract specific details for 'Trip Miles'\n",
    "column_name = trip_miles_drift['column_name']\n",
    "drift_detected = trip_miles_drift['drift_detected']\n",
    "drift_score = trip_miles_drift['drift_score']\n",
    "\n",
    "print(\"Column Name:\", column_name)\n",
    "print(\"Drift Detected:\", drift_detected)\n",
    "print(\"Drift Score:\", drift_score)"
   ],
   "id": "d89da2b5bf7afe93",
   "outputs": [],
   "execution_count": null
  },
  {
   "metadata": {},
   "cell_type": "code",
   "source": [
    "# Get current and reference distributions for 'Trip Miles'\n",
    "current_distribution = trip_miles_drift['current']['small_distribution']\n",
    "reference_distribution = trip_miles_drift['reference']['small_distribution']\n",
    "\n",
    "print(\"Current Distribution X:\", current_distribution['x'])\n",
    "print(\"Current Distribution Y:\", current_distribution['y'])\n",
    "print(\"Reference Distribution X:\", reference_distribution['x'])\n",
    "print(\"Reference Distribution Y:\", reference_distribution['y'])"
   ],
   "id": "d4ab5acb696e162b",
   "outputs": [],
   "execution_count": null
  },
  {
   "metadata": {},
   "cell_type": "code",
   "source": [
    "drifted_columns = report_dict['metrics'][1]['result']['drift_by_columns']\n",
    "message = []\n",
    "for column, details in drifted_columns.items():\n",
    "    print(f\"Column: {column}\")\n",
    "    print(f\"  Drift Detected: {details['drift_detected']}\")\n",
    "    print(f\"  Drift Score: {details['drift_score']}\")\n",
    "    message.append(f\"Drift Detected for '{column}' with Drift Score: '{details['drift_score']}'\")\n",
    "    \n",
    "print(message)"
   ],
   "id": "582add3bcf7de407",
   "outputs": [],
   "execution_count": null
  },
  {
   "metadata": {},
   "cell_type": "code",
   "source": [
    "company_drift = report_dict['metrics'][1]['result']['drift_by_columns']['Company']\n",
    "company_drift_detected = company_drift['drift_detected']\n",
    "company_drift_score = company_drift['drift_score']\n",
    "\n",
    "print(\"Company Drift Detected:\", company_drift_detected)\n",
    "print(\"Company Drift Score:\", company_drift_score)"
   ],
   "id": "c7846d2ba4c227e5",
   "outputs": [],
   "execution_count": null
  },
  {
   "metadata": {},
   "cell_type": "code",
   "source": "metri = data_drift_report.as_dataframe()",
   "id": "a2425f35a307faf0",
   "outputs": [],
   "execution_count": null
  }
 ],
 "metadata": {
  "kernelspec": {
   "display_name": "Python 3",
   "language": "python",
   "name": "python3"
  },
  "language_info": {
   "codemirror_mode": {
    "name": "ipython",
    "version": 2
   },
   "file_extension": ".py",
   "mimetype": "text/x-python",
   "name": "python",
   "nbconvert_exporter": "python",
   "pygments_lexer": "ipython2",
   "version": "2.7.6"
  }
 },
 "nbformat": 4,
 "nbformat_minor": 5
}
