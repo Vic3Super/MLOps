{
 "cells": [
  {
   "cell_type": "code",
   "execution_count": null,
   "id": "initial_id",
   "metadata": {
    "collapsed": true
   },
   "outputs": [],
   "source": [
    "import requests\n",
    "from LocalRun.src.load_data import load_data\n",
    "\n",
    "# Define the URL\n",
    "url = \"http://127.0.0.1:8080/predict\"\n",
    "\n",
    "data = load_data(local=True)\n",
    "clean_data = data.dropna(axis=0, how='any')\n",
    "clean_data = clean_data.iloc[0:10]\n",
    "\n",
    "# Define the JSON payload\n",
    "payload = {\n",
    "    \"columns\": clean_data.columns.tolist(),\n",
    "    \"data\": clean_data.to_numpy().tolist(),\n",
    "}\n",
    "\n",
    "# Define headers\n",
    "headers = {\n",
    "    \"Content-Type\": \"application/json\"\n",
    "}\n",
    "\n",
    "# Send the POST request\n",
    "response = requests.post(url, json=payload, headers=headers)\n",
    "\n",
    "# Print the response\n",
    "print(\"Status Code:\", response.status_code)\n",
    "print(\"Response Body:\", response.json())"
   ]
  }
 ],
 "metadata": {
  "kernelspec": {
   "display_name": "Python 3",
   "language": "python",
   "name": "python3"
  },
  "language_info": {
   "codemirror_mode": {
    "name": "ipython",
    "version": 2
   },
   "file_extension": ".py",
   "mimetype": "text/x-python",
   "name": "python",
   "nbconvert_exporter": "python",
   "pygments_lexer": "ipython2",
   "version": "2.7.6"
  }
 },
 "nbformat": 4,
 "nbformat_minor": 5
}
